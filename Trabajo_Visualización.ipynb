{
  "nbformat": 4,
  "nbformat_minor": 0,
  "metadata": {
    "colab": {
      "name": "Trabajo_Visualización.ipynb",
      "provenance": [],
      "authorship_tag": "ABX9TyNhRDpkVhFh1prZT2iHR/Ws",
      "include_colab_link": true
    },
    "kernelspec": {
      "name": "python3",
      "display_name": "Python 3"
    },
    "language_info": {
      "name": "python"
    }
  },
  "cells": [
    {
      "cell_type": "markdown",
      "metadata": {
        "id": "view-in-github",
        "colab_type": "text"
      },
      "source": [
        "<a href=\"https://colab.research.google.com/github/ANDRESMARTINEZG/TALLERES-TRABAJOS-VIS-/blob/main/Trabajo_Visualizaci%C3%B3n.ipynb\" target=\"_parent\"><img src=\"https://colab.research.google.com/assets/colab-badge.svg\" alt=\"Open In Colab\"/></a>"
      ]
    },
    {
      "cell_type": "markdown",
      "metadata": {
        "id": "Nmq8C6UYpfFN"
      },
      "source": [
        "\n",
        "# **PROYECTO PRIMER CORTE **\n",
        "Por Luz Rodriguez, David Benavides y Freddy Martinez\n"
      ]
    },
    {
      "cell_type": "markdown",
      "metadata": {
        "id": "CtA7AbOXp8r4"
      },
      "source": [
        "### IMPORTACIÓN DE LIBRERIAS Y DATOS \n",
        "\n",
        "Datos extraídos de la fuente 'Datos.gob.ar'\n",
        "\n",
        "Fecha creación: 25 de septiembre de 2020\n",
        "\n",
        "Datos actualizados por última vez: 12 de febrero de 2021\n",
        "\n",
        "Fuente: Datos.gob.ar"
      ]
    },
    {
      "cell_type": "code",
      "metadata": {
        "colab": {
          "base_uri": "https://localhost:8080/"
        },
        "id": "nDNq8G-dkiIU",
        "outputId": "a7e6bfaa-6139-4f8d-8963-49713cf52c82"
      },
      "source": [
        "import pandas as pd\n",
        "url = 'https://raw.githubusercontent.com/ANDRESMARTINEZG/TALLERES-TRABAJOS-VIS-/main/llamados-atendidos-violencia-familiar-unificado-201701-202102.csv'\n",
        "df = pd.read_csv(url)\n",
        "print(df.head(5))"
      ],
      "execution_count": 2,
      "outputs": [
        {
          "output_type": "stream",
          "text": [
            "    caso_id  ... llamado_provincia_id\n",
            "0  344552.0  ...                    2\n",
            "1  344553.0  ...                    2\n",
            "2  344554.0  ...                    2\n",
            "3  344555.0  ...                    2\n",
            "4  344556.0  ...                    2\n",
            "\n",
            "[5 rows x 16 columns]\n"
          ],
          "name": "stdout"
        }
      ]
    },
    {
      "cell_type": "code",
      "metadata": {
        "id": "cn8BgQSSk511"
      },
      "source": [
        "import numpy as np\n",
        "import datetime as dt\n",
        "from datetime import datetime\n",
        "pd.set_option('display.max_columns', None)\n",
        "import seaborn as sns\n",
        "import matplotlib as cm\n",
        "import matplotlib.pyplot as plt\n",
        "import altair as alt\n",
        "from vega_datasets import data\n",
        "from math import log10"
      ],
      "execution_count": 4,
      "outputs": []
    },
    {
      "cell_type": "markdown",
      "metadata": {
        "id": "kCZD61ObqdBI"
      },
      "source": [
        "### Descripción de los datos\n",
        "\n",
        "En esta base de datos se tiene la información de casos reportados de violencia intrafamiliar, en la base encontramos 16 variables con la siguiente información:\n",
        "\n",
        "* caso_id: Id de los casos reportados\n",
        "* llamante_descripcion: Persona que realizo la llamada y reporto el caso de violencia\n",
        "* llamante_genero: Género de la persona que realizo la llamda\n",
        "* llamante_vinculo_ninios_presentes: tipo de vinculo del llamante con la victima\n",
        "* violencia_tipo: Tipo de violencia\n",
        "* victima_edad: Edad de la victima\n",
        "* victima_rango_etario: Rango de edad de la victima\n",
        "* victima_genero: Género de la victima\n",
        "* victima_cantidad: Cantidad de victimas reportadas en el caso\n",
        "* agresor_cantidad: Cantidad de agresores reportadas en el caso\n",
        "* agresor_genero: Género del agresor\n",
        "* agresor_relacion_victima: Relación de la victima con el agresor\n",
        "* llamado_derivacion: Información de la acciones tomadas luego de las llamadas\n",
        "* llamado_fecha_hora: Fecha y hora de la llamada realizada\n",
        "* llamado_provincia: Provincia en la que se origino el llamado\n",
        "* llamado_provincia_id: Id de la provincia en la que se origino el llamado\n",
        "\n",
        "\n",
        "\n"
      ]
    },
    {
      "cell_type": "code",
      "metadata": {
        "colab": {
          "base_uri": "https://localhost:8080/"
        },
        "id": "4x4rInizrF_7",
        "outputId": "a5bbde15-bcec-4d47-ebc5-24c01da511ea"
      },
      "source": [
        "df.dtypes"
      ],
      "execution_count": 6,
      "outputs": [
        {
          "output_type": "execute_result",
          "data": {
            "text/plain": [
              "caso_id                              float64\n",
              "llamante_descripcion                  object\n",
              "llamante_genero                       object\n",
              "llamante_vinculo_ninios_presentes     object\n",
              "violencia_tipo                        object\n",
              "victima_edad                          object\n",
              "victima_rango_etario                  object\n",
              "victima_genero                        object\n",
              "victima_cantidad                       int64\n",
              "agresor_cantidad                       int64\n",
              "agresor_genero                        object\n",
              "agresor_relacion_victima              object\n",
              "llamado_derivacion                    object\n",
              "llamado_fecha_hora                    object\n",
              "llamado_provincia                     object\n",
              "llamado_provincia_id                   int64\n",
              "dtype: object"
            ]
          },
          "metadata": {
            "tags": []
          },
          "execution_count": 6
        }
      ]
    },
    {
      "cell_type": "code",
      "metadata": {
        "id": "y89k9iI1rpxB"
      },
      "source": [
        "datos = df"
      ],
      "execution_count": 7,
      "outputs": []
    },
    {
      "cell_type": "code",
      "metadata": {
        "id": "1_adJ8-Vryxx"
      },
      "source": [
        "datos.index=datos.caso_id"
      ],
      "execution_count": 8,
      "outputs": []
    },
    {
      "cell_type": "code",
      "metadata": {
        "colab": {
          "base_uri": "https://localhost:8080/"
        },
        "id": "nkFc-qbWr8mc",
        "outputId": "d1a6f6a6-c376-469e-f88f-ffe71ba7c460"
      },
      "source": [
        "datos.shape"
      ],
      "execution_count": 9,
      "outputs": [
        {
          "output_type": "execute_result",
          "data": {
            "text/plain": [
              "(36423, 16)"
            ]
          },
          "metadata": {
            "tags": []
          },
          "execution_count": 9
        }
      ]
    },
    {
      "cell_type": "code",
      "metadata": {
        "colab": {
          "base_uri": "https://localhost:8080/",
          "height": 425
        },
        "id": "QuZ7umJfsAql",
        "outputId": "8b7330b1-1aba-46e1-88b3-1588dba6e544"
      },
      "source": [
        "datos=datos.iloc[:,range(1,16,1)]\n",
        "datos.head()"
      ],
      "execution_count": 11,
      "outputs": [
        {
          "output_type": "execute_result",
          "data": {
            "text/html": [
              "<div>\n",
              "<style scoped>\n",
              "    .dataframe tbody tr th:only-of-type {\n",
              "        vertical-align: middle;\n",
              "    }\n",
              "\n",
              "    .dataframe tbody tr th {\n",
              "        vertical-align: top;\n",
              "    }\n",
              "\n",
              "    .dataframe thead th {\n",
              "        text-align: right;\n",
              "    }\n",
              "</style>\n",
              "<table border=\"1\" class=\"dataframe\">\n",
              "  <thead>\n",
              "    <tr style=\"text-align: right;\">\n",
              "      <th></th>\n",
              "      <th>llamante_descripcion</th>\n",
              "      <th>llamante_genero</th>\n",
              "      <th>llamante_vinculo_ninios_presentes</th>\n",
              "      <th>violencia_tipo</th>\n",
              "      <th>victima_edad</th>\n",
              "      <th>victima_rango_etario</th>\n",
              "      <th>victima_genero</th>\n",
              "      <th>victima_cantidad</th>\n",
              "      <th>agresor_cantidad</th>\n",
              "      <th>agresor_genero</th>\n",
              "      <th>agresor_relacion_victima</th>\n",
              "      <th>llamado_derivacion</th>\n",
              "      <th>llamado_fecha_hora</th>\n",
              "      <th>llamado_provincia</th>\n",
              "      <th>llamado_provincia_id</th>\n",
              "    </tr>\n",
              "    <tr>\n",
              "      <th>caso_id</th>\n",
              "      <th></th>\n",
              "      <th></th>\n",
              "      <th></th>\n",
              "      <th></th>\n",
              "      <th></th>\n",
              "      <th></th>\n",
              "      <th></th>\n",
              "      <th></th>\n",
              "      <th></th>\n",
              "      <th></th>\n",
              "      <th></th>\n",
              "      <th></th>\n",
              "      <th></th>\n",
              "      <th></th>\n",
              "      <th></th>\n",
              "    </tr>\n",
              "  </thead>\n",
              "  <tbody>\n",
              "    <tr>\n",
              "      <th>344552.0</th>\n",
              "      <td>Comisaría</td>\n",
              "      <td>Masculino</td>\n",
              "      <td>Otra/o no familiar</td>\n",
              "      <td>Física y psicológica</td>\n",
              "      <td>27</td>\n",
              "      <td>18 a 29 años</td>\n",
              "      <td>Femenino</td>\n",
              "      <td>3</td>\n",
              "      <td>1</td>\n",
              "      <td>Masculino</td>\n",
              "      <td>Pareja</td>\n",
              "      <td>La víctima no aceptó la intervención del Equip...</td>\n",
              "      <td>2017/01/01 01:37</td>\n",
              "      <td>Ciudad Autónoma de Buenos Aires</td>\n",
              "      <td>2</td>\n",
              "    </tr>\n",
              "    <tr>\n",
              "      <th>344553.0</th>\n",
              "      <td>Comisaría</td>\n",
              "      <td>Femenino</td>\n",
              "      <td>Sin datos</td>\n",
              "      <td>Física y psicológica</td>\n",
              "      <td>Sin dato</td>\n",
              "      <td>Sin dato</td>\n",
              "      <td>Femenino</td>\n",
              "      <td>2</td>\n",
              "      <td>1</td>\n",
              "      <td>Masculino</td>\n",
              "      <td>Hermano/a</td>\n",
              "      <td>Llamante solicitó información y/o orientación</td>\n",
              "      <td>2017/01/01 06:42</td>\n",
              "      <td>Ciudad Autónoma de Buenos Aires</td>\n",
              "      <td>2</td>\n",
              "    </tr>\n",
              "    <tr>\n",
              "      <th>344554.0</th>\n",
              "      <td>Víctima</td>\n",
              "      <td>Femenino</td>\n",
              "      <td>Madre</td>\n",
              "      <td>Física y psicológica</td>\n",
              "      <td>Sin dato</td>\n",
              "      <td>Sin dato</td>\n",
              "      <td>Femenino</td>\n",
              "      <td>1</td>\n",
              "      <td>1</td>\n",
              "      <td>Masculino</td>\n",
              "      <td>Pareja</td>\n",
              "      <td>Llamante solicitó información y/o orientación</td>\n",
              "      <td>2017/01/01 06:48</td>\n",
              "      <td>Ciudad Autónoma de Buenos Aires</td>\n",
              "      <td>2</td>\n",
              "    </tr>\n",
              "    <tr>\n",
              "      <th>344555.0</th>\n",
              "      <td>Víctima</td>\n",
              "      <td>Femenino</td>\n",
              "      <td>No hay niñas/os</td>\n",
              "      <td>Física y psicológica</td>\n",
              "      <td>Sin dato</td>\n",
              "      <td>Sin dato</td>\n",
              "      <td>Femenino</td>\n",
              "      <td>1</td>\n",
              "      <td>1</td>\n",
              "      <td>Masculino</td>\n",
              "      <td>Pareja</td>\n",
              "      <td>Llamante solicitó información y/o orientación</td>\n",
              "      <td>2017/01/01 06:54</td>\n",
              "      <td>Ciudad Autónoma de Buenos Aires</td>\n",
              "      <td>2</td>\n",
              "    </tr>\n",
              "    <tr>\n",
              "      <th>344556.0</th>\n",
              "      <td>Comisaría</td>\n",
              "      <td>Masculino</td>\n",
              "      <td>Otra/o no familiar</td>\n",
              "      <td>Psicológica</td>\n",
              "      <td>Sin dato</td>\n",
              "      <td>Sin dato</td>\n",
              "      <td>Masculino</td>\n",
              "      <td>1</td>\n",
              "      <td>1</td>\n",
              "      <td>Femenino</td>\n",
              "      <td>Madre</td>\n",
              "      <td>Llamante solicitó información y/o orientación</td>\n",
              "      <td>2017/01/01 07:11</td>\n",
              "      <td>Ciudad Autónoma de Buenos Aires</td>\n",
              "      <td>2</td>\n",
              "    </tr>\n",
              "  </tbody>\n",
              "</table>\n",
              "</div>"
            ],
            "text/plain": [
              "         llamante_descripcion llamante_genero  \\\n",
              "caso_id                                         \n",
              "344552.0            Comisaría       Masculino   \n",
              "344553.0            Comisaría        Femenino   \n",
              "344554.0              Víctima        Femenino   \n",
              "344555.0              Víctima        Femenino   \n",
              "344556.0            Comisaría       Masculino   \n",
              "\n",
              "         llamante_vinculo_ninios_presentes        violencia_tipo victima_edad  \\\n",
              "caso_id                                                                         \n",
              "344552.0                Otra/o no familiar  Física y psicológica           27   \n",
              "344553.0                         Sin datos  Física y psicológica     Sin dato   \n",
              "344554.0                             Madre  Física y psicológica     Sin dato   \n",
              "344555.0                   No hay niñas/os  Física y psicológica     Sin dato   \n",
              "344556.0                Otra/o no familiar           Psicológica     Sin dato   \n",
              "\n",
              "         victima_rango_etario victima_genero  victima_cantidad  \\\n",
              "caso_id                                                          \n",
              "344552.0         18 a 29 años       Femenino                 3   \n",
              "344553.0             Sin dato       Femenino                 2   \n",
              "344554.0             Sin dato       Femenino                 1   \n",
              "344555.0             Sin dato       Femenino                 1   \n",
              "344556.0             Sin dato      Masculino                 1   \n",
              "\n",
              "          agresor_cantidad agresor_genero agresor_relacion_victima  \\\n",
              "caso_id                                                              \n",
              "344552.0                 1      Masculino                   Pareja   \n",
              "344553.0                 1      Masculino                Hermano/a   \n",
              "344554.0                 1      Masculino                   Pareja   \n",
              "344555.0                 1      Masculino                   Pareja   \n",
              "344556.0                 1       Femenino                    Madre   \n",
              "\n",
              "                                         llamado_derivacion  \\\n",
              "caso_id                                                       \n",
              "344552.0  La víctima no aceptó la intervención del Equip...   \n",
              "344553.0      Llamante solicitó información y/o orientación   \n",
              "344554.0      Llamante solicitó información y/o orientación   \n",
              "344555.0      Llamante solicitó información y/o orientación   \n",
              "344556.0      Llamante solicitó información y/o orientación   \n",
              "\n",
              "         llamado_fecha_hora                llamado_provincia  \\\n",
              "caso_id                                                        \n",
              "344552.0   2017/01/01 01:37  Ciudad Autónoma de Buenos Aires   \n",
              "344553.0   2017/01/01 06:42  Ciudad Autónoma de Buenos Aires   \n",
              "344554.0   2017/01/01 06:48  Ciudad Autónoma de Buenos Aires   \n",
              "344555.0   2017/01/01 06:54  Ciudad Autónoma de Buenos Aires   \n",
              "344556.0   2017/01/01 07:11  Ciudad Autónoma de Buenos Aires   \n",
              "\n",
              "          llamado_provincia_id  \n",
              "caso_id                         \n",
              "344552.0                     2  \n",
              "344553.0                     2  \n",
              "344554.0                     2  \n",
              "344555.0                     2  \n",
              "344556.0                     2  "
            ]
          },
          "metadata": {
            "tags": []
          },
          "execution_count": 11
        }
      ]
    },
    {
      "cell_type": "markdown",
      "metadata": {
        "id": "bSItvc0QsITo"
      },
      "source": [
        "### Identificación y retiro de datos faltantes\n"
      ]
    },
    {
      "cell_type": "code",
      "metadata": {
        "colab": {
          "base_uri": "https://localhost:8080/"
        },
        "id": "6hCynLA8sUeP",
        "outputId": "a277bf38-31bd-4ed2-8a99-da7e78605b75"
      },
      "source": [
        "datos.isnull().sum()"
      ],
      "execution_count": 12,
      "outputs": [
        {
          "output_type": "execute_result",
          "data": {
            "text/plain": [
              "llamante_descripcion                  0\n",
              "llamante_genero                       0\n",
              "llamante_vinculo_ninios_presentes     0\n",
              "violencia_tipo                       20\n",
              "victima_edad                          0\n",
              "victima_rango_etario                  0\n",
              "victima_genero                        0\n",
              "victima_cantidad                      0\n",
              "agresor_cantidad                      0\n",
              "agresor_genero                        0\n",
              "agresor_relacion_victima              0\n",
              "llamado_derivacion                    0\n",
              "llamado_fecha_hora                    0\n",
              "llamado_provincia                     0\n",
              "llamado_provincia_id                  0\n",
              "dtype: int64"
            ]
          },
          "metadata": {
            "tags": []
          },
          "execution_count": 12
        }
      ]
    },
    {
      "cell_type": "code",
      "metadata": {
        "id": "4cX4NnSEslZJ"
      },
      "source": [
        "datos=datos.dropna()"
      ],
      "execution_count": 13,
      "outputs": []
    },
    {
      "cell_type": "markdown",
      "metadata": {
        "id": "IvwEff-esuDQ"
      },
      "source": [
        "*Se encontro 20 datos faltante pertenecientes a la variable tipo de violencia, posterior a identificarlos se procedio a eliminarlos.*"
      ]
    },
    {
      "cell_type": "markdown",
      "metadata": {
        "id": "m21wMuzSs0-K"
      },
      "source": [
        "### Retiro de datos pertenecientes a \" Sin dato\""
      ]
    },
    {
      "cell_type": "code",
      "metadata": {
        "colab": {
          "base_uri": "https://localhost:8080/"
        },
        "id": "ezml9k9ds7Vc",
        "outputId": "d92caefb-eb6b-4d45-baec-8c1f5a7e6260"
      },
      "source": [
        "datos.victima_edad.value_counts()"
      ],
      "execution_count": 15,
      "outputs": [
        {
          "output_type": "execute_result",
          "data": {
            "text/plain": [
              "Sin dato     12477\n",
              "Sin dato      3137\n",
              "30             675\n",
              "24             618\n",
              "23             607\n",
              "             ...  \n",
              "98               4\n",
              "99               3\n",
              "97               3\n",
              "101              3\n",
              "100              1\n",
              "Name: victima_edad, Length: 104, dtype: int64"
            ]
          },
          "metadata": {
            "tags": []
          },
          "execution_count": 15
        }
      ]
    },
    {
      "cell_type": "code",
      "metadata": {
        "colab": {
          "base_uri": "https://localhost:8080/"
        },
        "id": "wc7FAiOGtEU5",
        "outputId": "a6803003-9b2a-427c-ed39-128ebf891001"
      },
      "source": [
        "datos2=datos[datos.victima_edad!=\"Sin dato\"]\n",
        "datos2=datos2[datos2.victima_edad!=\"Sin dato \"]\n",
        "datos2.shape"
      ],
      "execution_count": 16,
      "outputs": [
        {
          "output_type": "execute_result",
          "data": {
            "text/plain": [
              "(20789, 15)"
            ]
          },
          "metadata": {
            "tags": []
          },
          "execution_count": 16
        }
      ]
    },
    {
      "cell_type": "markdown",
      "metadata": {
        "id": "g7QJnhMjtMB-"
      },
      "source": [
        "*Se encontraron 20789 datos sin información, al ser casi la mitad de la base de datos se decide no imputar y se procede a eliminarlos, dejando en la base un total de 20446 resgistros.*"
      ]
    },
    {
      "cell_type": "markdown",
      "metadata": {
        "id": "3oWI5REntV8S"
      },
      "source": [
        "### Duplicados"
      ]
    },
    {
      "cell_type": "code",
      "metadata": {
        "colab": {
          "base_uri": "https://localhost:8080/"
        },
        "id": "Hycvwc5WtbIQ",
        "outputId": "d8c6ccf7-8ac5-4b47-90a4-664c1a3bad87"
      },
      "source": [
        "datos2.index.duplicated().sum()"
      ],
      "execution_count": 17,
      "outputs": [
        {
          "output_type": "execute_result",
          "data": {
            "text/plain": [
              "1824"
            ]
          },
          "metadata": {
            "tags": []
          },
          "execution_count": 17
        }
      ]
    },
    {
      "cell_type": "code",
      "metadata": {
        "colab": {
          "base_uri": "https://localhost:8080/"
        },
        "id": "9Tzs2wsHt6cq",
        "outputId": "9a0c1771-e7e7-4a76-ed92-90dde11e1562"
      },
      "source": [
        "datos2=datos2[~datos2.index.duplicated()]\n",
        "datos2.shape"
      ],
      "execution_count": 18,
      "outputs": [
        {
          "output_type": "execute_result",
          "data": {
            "text/plain": [
              "(18965, 15)"
            ]
          },
          "metadata": {
            "tags": []
          },
          "execution_count": 18
        }
      ]
    },
    {
      "cell_type": "markdown",
      "metadata": {
        "id": "6ISH6RRtt9Hq"
      },
      "source": [
        "*Se encontraron en la base 1824 datos duplicados, posterior a esto se retiraron dejandonos con 18965 registros.*"
      ]
    },
    {
      "cell_type": "markdown",
      "metadata": {
        "id": "1rYlxjR3uJrc"
      },
      "source": [
        "### Tratamiento y limpieza de base por columnas"
      ]
    },
    {
      "cell_type": "code",
      "metadata": {
        "colab": {
          "base_uri": "https://localhost:8080/"
        },
        "id": "wX36xXlwuSkT",
        "outputId": "e8f272c6-57db-4cd4-8a18-46a04e9a58f8"
      },
      "source": [
        "# Decripción de la persona que realizo la llamada\n",
        "datos2.llamante_descripcion.replace({\"Otra institución\":\"Otra Institución\",\"Otro/a Particular\":\"Otro\", \"Otro/a particular\":\"Otro\", \"Otro/a\": \"Otro\"},inplace=True)\n",
        "datos2.llamante_descripcion.value_counts()"
      ],
      "execution_count": 19,
      "outputs": [
        {
          "output_type": "execute_result",
          "data": {
            "text/plain": [
              "Comisaría           8667\n",
              "Víctima             5495\n",
              "Familiar            2538\n",
              "Vecina/o             664\n",
              "Otra Institución     572\n",
              "Otro                 534\n",
              "Hospital             390\n",
              "NS/NC                 50\n",
              "Agresor/a             47\n",
              "Defensoría             8\n",
              "Name: llamante_descripcion, dtype: int64"
            ]
          },
          "metadata": {
            "tags": []
          },
          "execution_count": 19
        }
      ]
    },
    {
      "cell_type": "code",
      "metadata": {
        "colab": {
          "base_uri": "https://localhost:8080/"
        },
        "id": "CejJhQEiuXha",
        "outputId": "521a959a-82a9-4576-bfb0-96dbb4ee8801"
      },
      "source": [
        "# Vinculos del llamante con la victima\n",
        "datos2.llamante_vinculo_ninios_presentes.replace({\"Hermano/a\":\"Hermano/o\",\"Otra/o no familiar\":\"Otro/a no familiar\",\"Otra/o familiar\":\"Otro familiar\",\"Hermana/o\":\"Hermano/a\"},inplace=True)\n",
        "datos2.llamante_vinculo_ninios_presentes.value_counts()"
      ],
      "execution_count": 20,
      "outputs": [
        {
          "output_type": "execute_result",
          "data": {
            "text/plain": [
              "Otro/a no familiar    6548\n",
              "No hay niñas/os       5329\n",
              "Madre                 3344\n",
              "Otro familiar         1342\n",
              "Sin datos              776\n",
              "NS/NC                  683\n",
              "Padre                  590\n",
              "Hermano/o              208\n",
              "Hermano/a              137\n",
              "Padrastro                8\n",
              "Name: llamante_vinculo_ninios_presentes, dtype: int64"
            ]
          },
          "metadata": {
            "tags": []
          },
          "execution_count": 20
        }
      ]
    },
    {
      "cell_type": "code",
      "metadata": {
        "colab": {
          "base_uri": "https://localhost:8080/"
        },
        "id": "i5xYMC_kucY5",
        "outputId": "1c8704b4-1197-4202-d36b-41bb9b812850"
      },
      "source": [
        "# Tipo de violencia\n",
        "datos2.violencia_tipo.replace({\"Física, psicológica y económica\":\"Económica, física y psicológica\",\"no aplica\":\"No aplica\"},inplace=True)\n",
        "datos2.violencia_tipo.value_counts()"
      ],
      "execution_count": 21,
      "outputs": [
        {
          "output_type": "execute_result",
          "data": {
            "text/plain": [
              "Física y psicológica                   12607\n",
              "Psicológica                             5453\n",
              "Económica, física y psicológica          371\n",
              "Económica y psicológica                  171\n",
              "Sexual y psicológica                     159\n",
              "Física, sexual y psicológica             145\n",
              "Otras                                     31\n",
              "Sexual, económica y psicológica           10\n",
              "No es un caso de Violencia Familiar        8\n",
              "No aplica                                  7\n",
              "Económica, Física y psicológica            3\n",
              "Name: violencia_tipo, dtype: int64"
            ]
          },
          "metadata": {
            "tags": []
          },
          "execution_count": 21
        }
      ]
    },
    {
      "cell_type": "code",
      "metadata": {
        "colab": {
          "base_uri": "https://localhost:8080/"
        },
        "id": "56ReqOlkuhWt",
        "outputId": "5ff65f93-1cb3-4f94-c232-4ed38cb021f6"
      },
      "source": [
        "# Rango de la edad de la victima\n",
        "datos2.victima_rango_etario.replace({\"06 a 11 años\":\"6 a 11 años\"},inplace=True)\n",
        "datos2.victima_rango_etario.value_counts()"
      ],
      "execution_count": 22,
      "outputs": [
        {
          "output_type": "execute_result",
          "data": {
            "text/plain": [
              "18 a 29 años      5866\n",
              "30 a 39 años      4353\n",
              "40 a 49 años      2781\n",
              "Más de 60 años    1685\n",
              "12 a 17 años      1458\n",
              "50 a 59 años      1147\n",
              "6 a 11 años        904\n",
              "0 a 5 años         771\n",
              "Name: victima_rango_etario, dtype: int64"
            ]
          },
          "metadata": {
            "tags": []
          },
          "execution_count": 22
        }
      ]
    },
    {
      "cell_type": "code",
      "metadata": {
        "id": "ekoh_ShUuoPf"
      },
      "source": [
        "# Cantidad de victimas y cantidad agresores\n",
        "datos2=datos2[datos2.victima_cantidad!= 0]\n",
        "datos2=datos2[datos2.agresor_cantidad!= 0]\n",
        "datos2=datos2[datos2.agresor_cantidad!= 51]"
      ],
      "execution_count": 23,
      "outputs": []
    },
    {
      "cell_type": "code",
      "metadata": {
        "colab": {
          "base_uri": "https://localhost:8080/"
        },
        "id": "Y7qX6EuTuqXE",
        "outputId": "b61e6e6e-de3a-4bba-ea41-8de3d87f11c1"
      },
      "source": [
        "# Relación del agresor con la victima\n",
        "datos2=datos2[datos2.agresor_relacion_victima!= 'Madrastra']\n",
        "datos2.agresor_relacion_victima.replace({\"Hermana/o\":\"Hermano/a\"},inplace=True)\n",
        "datos2.agresor_relacion_victima.value_counts()"
      ],
      "execution_count": 24,
      "outputs": [
        {
          "output_type": "execute_result",
          "data": {
            "text/plain": [
              "Pareja                   7128\n",
              "Ex pareja                4809\n",
              "Madre                    1667\n",
              "Padre                    1459\n",
              "Hijo/a                   1362\n",
              "Hermano/a                 796\n",
              "Otro/a no conviviente     516\n",
              "Otro/a conviviente        370\n",
              "Padrastro                 331\n",
              "NS/NC                     318\n",
              "Abuelo/a                   74\n",
              "Name: agresor_relacion_victima, dtype: int64"
            ]
          },
          "metadata": {
            "tags": []
          },
          "execution_count": 24
        }
      ]
    },
    {
      "cell_type": "code",
      "metadata": {
        "colab": {
          "base_uri": "https://localhost:8080/"
        },
        "id": "dHpYHJGIuwr9",
        "outputId": "43431fc5-43e7-4e88-be24-ec550a1ee93b"
      },
      "source": [
        "# Información de la acciones tomadas luego de las llamadas\n",
        "datos2.llamado_derivacion.replace({\"Comunicación con los Equipos Móviles\":\"Comunicación con Equipos Móviles\"},inplace=True)\n",
        "datos2.llamado_derivacion.value_counts()"
      ],
      "execution_count": 25,
      "outputs": [
        {
          "output_type": "execute_result",
          "data": {
            "text/plain": [
              "Llamante solicitó información y/o orientación                             8959\n",
              "La víctima no aceptó la intervención del Equipo Móvil                     3942\n",
              "No se desplazó un  Equipo móvil por tratarse de un caso fuera de CABA     2213\n",
              "No había móviles y/o Equipos para realizar la intervención                1530\n",
              "Desplazamiento de un Equipo Móvil a donde se encontraba la/s víctima/s    1278\n",
              "Se planificó intervención para otro momento                                582\n",
              "Está interviniendo o se deriva a otra institución                          321\n",
              "Comunicación con Equipos Móviles                                             3\n",
              "Se trata de un conflicto familiar                                            2\n",
              "Name: llamado_derivacion, dtype: int64"
            ]
          },
          "metadata": {
            "tags": []
          },
          "execution_count": 25
        }
      ]
    },
    {
      "cell_type": "markdown",
      "metadata": {
        "id": "ZruYYvlgu3ES"
      },
      "source": [
        "*Se econtraron en algunas de la variables categoricas, problemas de coherencia y categorias que se repetian a causa de un carater de mas o problemas de espacios en la digitación, por lo tanto se procedio a unificar estas categorias y en otras quitarlas por ser datos atipicos.*"
      ]
    },
    {
      "cell_type": "code",
      "metadata": {
        "colab": {
          "base_uri": "https://localhost:8080/"
        },
        "id": "OjiOvCgXu6GH",
        "outputId": "ae02e3b4-b80d-427d-e0f1-f2639c90a99e"
      },
      "source": [
        "datos2['llamado_fecha_hora'] = datos2['llamado_fecha_hora'].astype('str')\n",
        "datos2['llamado_fecha_hora'].dtype"
      ],
      "execution_count": 26,
      "outputs": [
        {
          "output_type": "execute_result",
          "data": {
            "text/plain": [
              "dtype('O')"
            ]
          },
          "metadata": {
            "tags": []
          },
          "execution_count": 26
        }
      ]
    },
    {
      "cell_type": "code",
      "metadata": {
        "id": "K1pBHJutvAsO"
      },
      "source": [
        "fe=pd.DataFrame(datos2[\"llamado_fecha_hora\"].str.split(' ',expand=True))"
      ],
      "execution_count": 27,
      "outputs": []
    },
    {
      "cell_type": "code",
      "metadata": {
        "id": "4PgDa2RovDDq"
      },
      "source": [
        "datos2[\"llamado_fecha\"]=fe.iloc[:,0]\n",
        "datos2[\"llamado_hora\"]=fe.iloc[:,1]"
      ],
      "execution_count": 28,
      "outputs": []
    },
    {
      "cell_type": "code",
      "metadata": {
        "id": "1czpD9-xvF8f"
      },
      "source": [
        "datos2=datos2.drop([\"llamado_fecha_hora\"],axis=1)"
      ],
      "execution_count": 29,
      "outputs": []
    },
    {
      "cell_type": "code",
      "metadata": {
        "colab": {
          "base_uri": "https://localhost:8080/",
          "height": 295
        },
        "id": "w79_v2ZWvI6s",
        "outputId": "a2cad2b2-93ad-433d-f01c-f2463b3b448d"
      },
      "source": [
        "datos2.head(3)"
      ],
      "execution_count": 30,
      "outputs": [
        {
          "output_type": "execute_result",
          "data": {
            "text/html": [
              "<div>\n",
              "<style scoped>\n",
              "    .dataframe tbody tr th:only-of-type {\n",
              "        vertical-align: middle;\n",
              "    }\n",
              "\n",
              "    .dataframe tbody tr th {\n",
              "        vertical-align: top;\n",
              "    }\n",
              "\n",
              "    .dataframe thead th {\n",
              "        text-align: right;\n",
              "    }\n",
              "</style>\n",
              "<table border=\"1\" class=\"dataframe\">\n",
              "  <thead>\n",
              "    <tr style=\"text-align: right;\">\n",
              "      <th></th>\n",
              "      <th>llamante_descripcion</th>\n",
              "      <th>llamante_genero</th>\n",
              "      <th>llamante_vinculo_ninios_presentes</th>\n",
              "      <th>violencia_tipo</th>\n",
              "      <th>victima_edad</th>\n",
              "      <th>victima_rango_etario</th>\n",
              "      <th>victima_genero</th>\n",
              "      <th>victima_cantidad</th>\n",
              "      <th>agresor_cantidad</th>\n",
              "      <th>agresor_genero</th>\n",
              "      <th>agresor_relacion_victima</th>\n",
              "      <th>llamado_derivacion</th>\n",
              "      <th>llamado_provincia</th>\n",
              "      <th>llamado_provincia_id</th>\n",
              "      <th>llamado_fecha</th>\n",
              "      <th>llamado_hora</th>\n",
              "    </tr>\n",
              "    <tr>\n",
              "      <th>caso_id</th>\n",
              "      <th></th>\n",
              "      <th></th>\n",
              "      <th></th>\n",
              "      <th></th>\n",
              "      <th></th>\n",
              "      <th></th>\n",
              "      <th></th>\n",
              "      <th></th>\n",
              "      <th></th>\n",
              "      <th></th>\n",
              "      <th></th>\n",
              "      <th></th>\n",
              "      <th></th>\n",
              "      <th></th>\n",
              "      <th></th>\n",
              "      <th></th>\n",
              "    </tr>\n",
              "  </thead>\n",
              "  <tbody>\n",
              "    <tr>\n",
              "      <th>344552.0</th>\n",
              "      <td>Comisaría</td>\n",
              "      <td>Masculino</td>\n",
              "      <td>Otro/a no familiar</td>\n",
              "      <td>Física y psicológica</td>\n",
              "      <td>27</td>\n",
              "      <td>18 a 29 años</td>\n",
              "      <td>Femenino</td>\n",
              "      <td>3</td>\n",
              "      <td>1</td>\n",
              "      <td>Masculino</td>\n",
              "      <td>Pareja</td>\n",
              "      <td>La víctima no aceptó la intervención del Equip...</td>\n",
              "      <td>Ciudad Autónoma de Buenos Aires</td>\n",
              "      <td>2</td>\n",
              "      <td>2017/01/01</td>\n",
              "      <td>01:37</td>\n",
              "    </tr>\n",
              "    <tr>\n",
              "      <th>344557.0</th>\n",
              "      <td>Comisaría</td>\n",
              "      <td>Masculino</td>\n",
              "      <td>Otro/a no familiar</td>\n",
              "      <td>Física y psicológica</td>\n",
              "      <td>35</td>\n",
              "      <td>30 a 39 años</td>\n",
              "      <td>Femenino</td>\n",
              "      <td>4</td>\n",
              "      <td>1</td>\n",
              "      <td>Masculino</td>\n",
              "      <td>Pareja</td>\n",
              "      <td>La víctima no aceptó la intervención del Equip...</td>\n",
              "      <td>Ciudad Autónoma de Buenos Aires</td>\n",
              "      <td>2</td>\n",
              "      <td>2017/01/01</td>\n",
              "      <td>07:23</td>\n",
              "    </tr>\n",
              "    <tr>\n",
              "      <th>344559.0</th>\n",
              "      <td>Comisaría</td>\n",
              "      <td>Masculino</td>\n",
              "      <td>Otro/a no familiar</td>\n",
              "      <td>Física y psicológica</td>\n",
              "      <td>25</td>\n",
              "      <td>18 a 29 años</td>\n",
              "      <td>Femenino</td>\n",
              "      <td>1</td>\n",
              "      <td>1</td>\n",
              "      <td>Masculino</td>\n",
              "      <td>Pareja</td>\n",
              "      <td>La víctima no aceptó la intervención del Equip...</td>\n",
              "      <td>Ciudad Autónoma de Buenos Aires</td>\n",
              "      <td>2</td>\n",
              "      <td>2017/01/01</td>\n",
              "      <td>07:38</td>\n",
              "    </tr>\n",
              "  </tbody>\n",
              "</table>\n",
              "</div>"
            ],
            "text/plain": [
              "         llamante_descripcion llamante_genero  \\\n",
              "caso_id                                         \n",
              "344552.0            Comisaría       Masculino   \n",
              "344557.0            Comisaría       Masculino   \n",
              "344559.0            Comisaría       Masculino   \n",
              "\n",
              "         llamante_vinculo_ninios_presentes        violencia_tipo victima_edad  \\\n",
              "caso_id                                                                         \n",
              "344552.0                Otro/a no familiar  Física y psicológica           27   \n",
              "344557.0                Otro/a no familiar  Física y psicológica           35   \n",
              "344559.0                Otro/a no familiar  Física y psicológica           25   \n",
              "\n",
              "         victima_rango_etario victima_genero  victima_cantidad  \\\n",
              "caso_id                                                          \n",
              "344552.0         18 a 29 años       Femenino                 3   \n",
              "344557.0         30 a 39 años       Femenino                 4   \n",
              "344559.0         18 a 29 años       Femenino                 1   \n",
              "\n",
              "          agresor_cantidad agresor_genero agresor_relacion_victima  \\\n",
              "caso_id                                                              \n",
              "344552.0                 1      Masculino                   Pareja   \n",
              "344557.0                 1      Masculino                   Pareja   \n",
              "344559.0                 1      Masculino                   Pareja   \n",
              "\n",
              "                                         llamado_derivacion  \\\n",
              "caso_id                                                       \n",
              "344552.0  La víctima no aceptó la intervención del Equip...   \n",
              "344557.0  La víctima no aceptó la intervención del Equip...   \n",
              "344559.0  La víctima no aceptó la intervención del Equip...   \n",
              "\n",
              "                        llamado_provincia  llamado_provincia_id llamado_fecha  \\\n",
              "caso_id                                                                         \n",
              "344552.0  Ciudad Autónoma de Buenos Aires                     2    2017/01/01   \n",
              "344557.0  Ciudad Autónoma de Buenos Aires                     2    2017/01/01   \n",
              "344559.0  Ciudad Autónoma de Buenos Aires                     2    2017/01/01   \n",
              "\n",
              "         llamado_hora  \n",
              "caso_id                \n",
              "344552.0        01:37  \n",
              "344557.0        07:23  \n",
              "344559.0        07:38  "
            ]
          },
          "metadata": {
            "tags": []
          },
          "execution_count": 30
        }
      ]
    },
    {
      "cell_type": "markdown",
      "metadata": {
        "id": "q_WjIq4hvR7W"
      },
      "source": [
        "*Se procedio a separar la fecha y la hora de la variable 'llamado_fecha_hora' en dos columnas nombradas 'llamado_fecha' y 'llamado_hora' respectivamente.*"
      ]
    },
    {
      "cell_type": "markdown",
      "metadata": {
        "id": "__XJR0ocvWo7"
      },
      "source": [
        "## VISUALIZACIÓN PROPUESTA "
      ]
    },
    {
      "cell_type": "markdown",
      "metadata": {
        "id": "WDeN5KqVDAzI"
      },
      "source": [
        "**DESCRIPCION**"
      ]
    },
    {
      "cell_type": "markdown",
      "metadata": {
        "id": "wDqEm-MSD1xD"
      },
      "source": [
        ""
      ]
    },
    {
      "cell_type": "code",
      "metadata": {
        "colab": {
          "base_uri": "https://localhost:8080/"
        },
        "id": "YeYdHDlu2Cws",
        "outputId": "23786890-9a0b-4c7f-a7e6-192ef0a79214"
      },
      "source": [
        "\n",
        "datos2[\"llamado_derivacion\"].value_counts()"
      ],
      "execution_count": 31,
      "outputs": [
        {
          "output_type": "execute_result",
          "data": {
            "text/plain": [
              "Llamante solicitó información y/o orientación                             8959\n",
              "La víctima no aceptó la intervención del Equipo Móvil                     3942\n",
              "No se desplazó un  Equipo móvil por tratarse de un caso fuera de CABA     2213\n",
              "No había móviles y/o Equipos para realizar la intervención                1530\n",
              "Desplazamiento de un Equipo Móvil a donde se encontraba la/s víctima/s    1278\n",
              "Se planificó intervención para otro momento                                582\n",
              "Está interviniendo o se deriva a otra institución                          321\n",
              "Comunicación con Equipos Móviles                                             3\n",
              "Se trata de un conflicto familiar                                            2\n",
              "Name: llamado_derivacion, dtype: int64"
            ]
          },
          "metadata": {
            "tags": []
          },
          "execution_count": 31
        }
      ]
    },
    {
      "cell_type": "code",
      "metadata": {
        "colab": {
          "base_uri": "https://localhost:8080/"
        },
        "id": "uAFxJ3U2_Vlz",
        "outputId": "768d3227-697f-4251-b224-84d963dc4d47"
      },
      "source": [
        "datos2[\"llamante_descripcion\"].value_counts()"
      ],
      "execution_count": 33,
      "outputs": [
        {
          "output_type": "execute_result",
          "data": {
            "text/plain": [
              "Comisaría           8637\n",
              "Víctima             5465\n",
              "Familiar            2493\n",
              "Vecina/o             654\n",
              "Otra Institución     567\n",
              "Otro                 527\n",
              "Hospital             386\n",
              "Agresor/a             47\n",
              "NS/NC                 46\n",
              "Defensoría             8\n",
              "Name: llamante_descripcion, dtype: int64"
            ]
          },
          "metadata": {
            "tags": []
          },
          "execution_count": 33
        }
      ]
    },
    {
      "cell_type": "code",
      "metadata": {
        "colab": {
          "base_uri": "https://localhost:8080/",
          "height": 458
        },
        "id": "mebs-kQZ_wRN",
        "outputId": "00fd05c8-bb42-4042-d0ff-650f2db1331e"
      },
      "source": [
        "tab1 = pd.crosstab(datos2[\"llamante_descripcion\"],datos2[\"llamado_derivacion\"])\n",
        "tab1"
      ],
      "execution_count": 34,
      "outputs": [
        {
          "output_type": "execute_result",
          "data": {
            "text/html": [
              "<div>\n",
              "<style scoped>\n",
              "    .dataframe tbody tr th:only-of-type {\n",
              "        vertical-align: middle;\n",
              "    }\n",
              "\n",
              "    .dataframe tbody tr th {\n",
              "        vertical-align: top;\n",
              "    }\n",
              "\n",
              "    .dataframe thead th {\n",
              "        text-align: right;\n",
              "    }\n",
              "</style>\n",
              "<table border=\"1\" class=\"dataframe\">\n",
              "  <thead>\n",
              "    <tr style=\"text-align: right;\">\n",
              "      <th>llamado_derivacion</th>\n",
              "      <th>Comunicación con Equipos Móviles</th>\n",
              "      <th>Desplazamiento de un Equipo Móvil a donde se encontraba la/s víctima/s</th>\n",
              "      <th>Está interviniendo o se deriva a otra institución</th>\n",
              "      <th>La víctima no aceptó la intervención del Equipo Móvil</th>\n",
              "      <th>Llamante solicitó información y/o orientación</th>\n",
              "      <th>No había móviles y/o Equipos para realizar la intervención</th>\n",
              "      <th>No se desplazó un  Equipo móvil por tratarse de un caso fuera de CABA</th>\n",
              "      <th>Se planificó intervención para otro momento</th>\n",
              "      <th>Se trata de un conflicto familiar</th>\n",
              "    </tr>\n",
              "    <tr>\n",
              "      <th>llamante_descripcion</th>\n",
              "      <th></th>\n",
              "      <th></th>\n",
              "      <th></th>\n",
              "      <th></th>\n",
              "      <th></th>\n",
              "      <th></th>\n",
              "      <th></th>\n",
              "      <th></th>\n",
              "      <th></th>\n",
              "    </tr>\n",
              "  </thead>\n",
              "  <tbody>\n",
              "    <tr>\n",
              "      <th>Agresor/a</th>\n",
              "      <td>0</td>\n",
              "      <td>0</td>\n",
              "      <td>2</td>\n",
              "      <td>2</td>\n",
              "      <td>41</td>\n",
              "      <td>0</td>\n",
              "      <td>2</td>\n",
              "      <td>0</td>\n",
              "      <td>0</td>\n",
              "    </tr>\n",
              "    <tr>\n",
              "      <th>Comisaría</th>\n",
              "      <td>2</td>\n",
              "      <td>758</td>\n",
              "      <td>128</td>\n",
              "      <td>3148</td>\n",
              "      <td>3133</td>\n",
              "      <td>1047</td>\n",
              "      <td>88</td>\n",
              "      <td>333</td>\n",
              "      <td>0</td>\n",
              "    </tr>\n",
              "    <tr>\n",
              "      <th>Defensoría</th>\n",
              "      <td>0</td>\n",
              "      <td>5</td>\n",
              "      <td>0</td>\n",
              "      <td>1</td>\n",
              "      <td>1</td>\n",
              "      <td>1</td>\n",
              "      <td>0</td>\n",
              "      <td>0</td>\n",
              "      <td>0</td>\n",
              "    </tr>\n",
              "    <tr>\n",
              "      <th>Familiar</th>\n",
              "      <td>0</td>\n",
              "      <td>35</td>\n",
              "      <td>44</td>\n",
              "      <td>66</td>\n",
              "      <td>1505</td>\n",
              "      <td>75</td>\n",
              "      <td>743</td>\n",
              "      <td>25</td>\n",
              "      <td>0</td>\n",
              "    </tr>\n",
              "    <tr>\n",
              "      <th>Hospital</th>\n",
              "      <td>0</td>\n",
              "      <td>125</td>\n",
              "      <td>22</td>\n",
              "      <td>44</td>\n",
              "      <td>73</td>\n",
              "      <td>49</td>\n",
              "      <td>7</td>\n",
              "      <td>66</td>\n",
              "      <td>0</td>\n",
              "    </tr>\n",
              "    <tr>\n",
              "      <th>NS/NC</th>\n",
              "      <td>0</td>\n",
              "      <td>1</td>\n",
              "      <td>2</td>\n",
              "      <td>0</td>\n",
              "      <td>36</td>\n",
              "      <td>1</td>\n",
              "      <td>6</td>\n",
              "      <td>0</td>\n",
              "      <td>0</td>\n",
              "    </tr>\n",
              "    <tr>\n",
              "      <th>Otra Institución</th>\n",
              "      <td>0</td>\n",
              "      <td>131</td>\n",
              "      <td>26</td>\n",
              "      <td>87</td>\n",
              "      <td>181</td>\n",
              "      <td>71</td>\n",
              "      <td>23</td>\n",
              "      <td>48</td>\n",
              "      <td>0</td>\n",
              "    </tr>\n",
              "    <tr>\n",
              "      <th>Otro</th>\n",
              "      <td>0</td>\n",
              "      <td>28</td>\n",
              "      <td>13</td>\n",
              "      <td>25</td>\n",
              "      <td>304</td>\n",
              "      <td>4</td>\n",
              "      <td>137</td>\n",
              "      <td>15</td>\n",
              "      <td>1</td>\n",
              "    </tr>\n",
              "    <tr>\n",
              "      <th>Vecina/o</th>\n",
              "      <td>0</td>\n",
              "      <td>26</td>\n",
              "      <td>25</td>\n",
              "      <td>20</td>\n",
              "      <td>356</td>\n",
              "      <td>23</td>\n",
              "      <td>199</td>\n",
              "      <td>5</td>\n",
              "      <td>0</td>\n",
              "    </tr>\n",
              "    <tr>\n",
              "      <th>Víctima</th>\n",
              "      <td>1</td>\n",
              "      <td>169</td>\n",
              "      <td>59</td>\n",
              "      <td>549</td>\n",
              "      <td>3329</td>\n",
              "      <td>259</td>\n",
              "      <td>1008</td>\n",
              "      <td>90</td>\n",
              "      <td>1</td>\n",
              "    </tr>\n",
              "  </tbody>\n",
              "</table>\n",
              "</div>"
            ],
            "text/plain": [
              "llamado_derivacion    Comunicación con Equipos Móviles  \\\n",
              "llamante_descripcion                                     \n",
              "Agresor/a                                            0   \n",
              "Comisaría                                            2   \n",
              "Defensoría                                           0   \n",
              "Familiar                                             0   \n",
              "Hospital                                             0   \n",
              "NS/NC                                                0   \n",
              "Otra Institución                                     0   \n",
              "Otro                                                 0   \n",
              "Vecina/o                                             0   \n",
              "Víctima                                              1   \n",
              "\n",
              "llamado_derivacion    Desplazamiento de un Equipo Móvil a donde se encontraba la/s víctima/s  \\\n",
              "llamante_descripcion                                                                           \n",
              "Agresor/a                                                             0                        \n",
              "Comisaría                                                           758                        \n",
              "Defensoría                                                            5                        \n",
              "Familiar                                                             35                        \n",
              "Hospital                                                            125                        \n",
              "NS/NC                                                                 1                        \n",
              "Otra Institución                                                    131                        \n",
              "Otro                                                                 28                        \n",
              "Vecina/o                                                             26                        \n",
              "Víctima                                                             169                        \n",
              "\n",
              "llamado_derivacion    Está interviniendo o se deriva a otra institución  \\\n",
              "llamante_descripcion                                                      \n",
              "Agresor/a                                                             2   \n",
              "Comisaría                                                           128   \n",
              "Defensoría                                                            0   \n",
              "Familiar                                                             44   \n",
              "Hospital                                                             22   \n",
              "NS/NC                                                                 2   \n",
              "Otra Institución                                                     26   \n",
              "Otro                                                                 13   \n",
              "Vecina/o                                                             25   \n",
              "Víctima                                                              59   \n",
              "\n",
              "llamado_derivacion    La víctima no aceptó la intervención del Equipo Móvil  \\\n",
              "llamante_descripcion                                                          \n",
              "Agresor/a                                                             2       \n",
              "Comisaría                                                          3148       \n",
              "Defensoría                                                            1       \n",
              "Familiar                                                             66       \n",
              "Hospital                                                             44       \n",
              "NS/NC                                                                 0       \n",
              "Otra Institución                                                     87       \n",
              "Otro                                                                 25       \n",
              "Vecina/o                                                             20       \n",
              "Víctima                                                             549       \n",
              "\n",
              "llamado_derivacion    Llamante solicitó información y/o orientación  \\\n",
              "llamante_descripcion                                                  \n",
              "Agresor/a                                                        41   \n",
              "Comisaría                                                      3133   \n",
              "Defensoría                                                        1   \n",
              "Familiar                                                       1505   \n",
              "Hospital                                                         73   \n",
              "NS/NC                                                            36   \n",
              "Otra Institución                                                181   \n",
              "Otro                                                            304   \n",
              "Vecina/o                                                        356   \n",
              "Víctima                                                        3329   \n",
              "\n",
              "llamado_derivacion    No había móviles y/o Equipos para realizar la intervención  \\\n",
              "llamante_descripcion                                                               \n",
              "Agresor/a                                                             0            \n",
              "Comisaría                                                          1047            \n",
              "Defensoría                                                            1            \n",
              "Familiar                                                             75            \n",
              "Hospital                                                             49            \n",
              "NS/NC                                                                 1            \n",
              "Otra Institución                                                     71            \n",
              "Otro                                                                  4            \n",
              "Vecina/o                                                             23            \n",
              "Víctima                                                             259            \n",
              "\n",
              "llamado_derivacion    No se desplazó un  Equipo móvil por tratarse de un caso fuera de CABA  \\\n",
              "llamante_descripcion                                                                          \n",
              "Agresor/a                                                             2                       \n",
              "Comisaría                                                            88                       \n",
              "Defensoría                                                            0                       \n",
              "Familiar                                                            743                       \n",
              "Hospital                                                              7                       \n",
              "NS/NC                                                                 6                       \n",
              "Otra Institución                                                     23                       \n",
              "Otro                                                                137                       \n",
              "Vecina/o                                                            199                       \n",
              "Víctima                                                            1008                       \n",
              "\n",
              "llamado_derivacion    Se planificó intervención para otro momento  \\\n",
              "llamante_descripcion                                                \n",
              "Agresor/a                                                       0   \n",
              "Comisaría                                                     333   \n",
              "Defensoría                                                      0   \n",
              "Familiar                                                       25   \n",
              "Hospital                                                       66   \n",
              "NS/NC                                                           0   \n",
              "Otra Institución                                               48   \n",
              "Otro                                                           15   \n",
              "Vecina/o                                                        5   \n",
              "Víctima                                                        90   \n",
              "\n",
              "llamado_derivacion    Se trata de un conflicto familiar  \n",
              "llamante_descripcion                                     \n",
              "Agresor/a                                             0  \n",
              "Comisaría                                             0  \n",
              "Defensoría                                            0  \n",
              "Familiar                                              0  \n",
              "Hospital                                              0  \n",
              "NS/NC                                                 0  \n",
              "Otra Institución                                      0  \n",
              "Otro                                                  1  \n",
              "Vecina/o                                              0  \n",
              "Víctima                                               1  "
            ]
          },
          "metadata": {
            "tags": []
          },
          "execution_count": 34
        }
      ]
    },
    {
      "cell_type": "code",
      "metadata": {
        "colab": {
          "base_uri": "https://localhost:8080/",
          "height": 636
        },
        "id": "hJ-sirr9Assf",
        "outputId": "55424a86-7316-4345-8259-b12118b3cdd3"
      },
      "source": [
        "ax = sns.heatmap(tab1,\n",
        "                 annot=True, \n",
        "                 fmt=\"d\",\n",
        "                 linewidths=.5,\n",
        "                 cmap=\"YlGnBu\")"
      ],
      "execution_count": 36,
      "outputs": [
        {
          "output_type": "display_data",
          "data": {
            "image/png": "[encoded data removed]",
            "text/plain": [
              "<Figure size 432x288 with 2 Axes>"
            ]
          },
          "metadata": {
            "tags": [],
            "needs_background": "light"
          }
        }
      ]
    },
    {
      "cell_type": "markdown",
      "metadata": {
        "id": "rZq9t_5ZFbuf"
      },
      "source": [
        "### VIS QUE SE DECIDE HACER: MAPA DE CALOR"
      ]
    },
    {
      "cell_type": "markdown",
      "metadata": {
        "id": "nY6F4LYxFhL9"
      },
      "source": [
        "**¿Qué?**\n",
        "* Como ya fue mencionado dentro de la descripción, la VIS tiene como objetivo el análisis de dos\n",
        "variables donde en una nos muestra la descripción del llamante donde nos dice si es alguien de la\n",
        "comisaria, defensoría, vecino, familiar entre otras y por otro lado está a lo que derivo esta llamada\n",
        "en pocas palabras si la victima adquirió ayuda y orientación por los agentes o no, este tipo de data\n",
        "set es de tabla donde se relacionan sus ítems en cuanto a sus atributos donde el conjunto de datos\n",
        "es estático y nos dice a través de esa unión de características los niveles cuantitativos y también\n",
        "mediante los fiels el estado de esas dos variables que tan calientes o frías están estas también\n",
        "relacionadas a través de colores."
      ]
    },
    {
      "cell_type": "markdown",
      "metadata": {
        "id": "ZWtSFldQFx8P"
      },
      "source": [
        "**¿Por qué?**\n",
        "* Como bien se dijo en la descripción el usuario requiere ver el tipo de acción que tiene\n",
        "la victima contra la violencia es por eso que se enfoca esta visualización al tipo de presentación\n",
        "donde nos describe como derivan la correlación o para ser más preciso el tipo de dependencia de\n",
        "estas dos variables es por eso que el tipo de consulta resulta siendo una especie de resumen, acá\n",
        "podemos ver una situación quizá irracional porque cuando el llamante es el victimario muchas\n",
        "veces la victima llega a un arreglo y ayuda con los agentes que se llamaron y a pesar de que la\n",
        "comisaria o defensoría llame no se llega a un consenso como se esperaría entre la víctima y los\n",
        "agentes aunque aún así es tiene niveles altos donde se imparte “verdadera justicia”"
      ]
    },
    {
      "cell_type": "markdown",
      "metadata": {
        "id": "5rntKirDGViZ"
      },
      "source": [
        "**¿Cómo?** \n",
        "* La codificación visual que utiliza esta pieza es un arreglo express donde muestra datos\n",
        "numéricos puntuales donde también utiliza diferentes subcaracteristicas y a través de la\n",
        "saturación nos muestran la frecuencia según las características contrarrestadas."
      ]
    },
    {
      "cell_type": "markdown",
      "metadata": {
        "id": "5JAZgjCuHBfk"
      },
      "source": [
        "**Marca:**\n",
        "* El tipo de marca que tiene esta visualización es de área donde nos muestra a nivel\n",
        "numérico y de color el nivel volumen o crecimiento que tiene esa área"
      ]
    },
    {
      "cell_type": "markdown",
      "metadata": {
        "id": "hk71ZcUAHgV_"
      },
      "source": [
        "**Canal :** \n",
        "* En cuanto a este ítem la pieza proporciona dos tipos de colores de saturación claros donde\n",
        "lo enunciado en el color naranja o rojizo es lo que en la pieza determina las partes que mayor\n",
        "frecuencia tienen y en azul ya resalta lo menos característico o frecuentado según la relación\n",
        "llamante y derivación, entonces se puede decir vagamente que el color describe la frecuencia por\n",
        "ejemplo como en este caso cuando un familiar llama toma un color casi hacia el azul donde nos\n",
        "muestra que no tiene mucha relevancia entre cómo reacciona la victima si el que lo apoya es un\n",
        "familiar pero podemos ver que se toma un color rojizo si la comisaria tiene apoyo con la víctima."
      ]
    },
    {
      "cell_type": "markdown",
      "metadata": {
        "id": "a7vXpM42Hvx-"
      },
      "source": [
        "**Reglas Generales:** \n",
        "* La pieza tiene una justificación adecuada donde representa de forma\n",
        "sobresaliente los datos, de forma cognitiva y de percepción tiene una armonía adecuada donde el\n",
        "usuario puede persuadir cada parte de la pieza sin que se le pierda información aunque seria bueno buscar un metodo para recortar las variables,a través de los\n",
        "colores ayuda a representar la frecuencia y también estudia en cada caso que tipo de soluciones se pueden implantar cuando se correlaciona quizá hospital y aplazamiento o planificación de intervención de otro momento donde el usuario podría implementar como mayor educación y acompañamiento en los hospitales"
      ]
    },
    {
      "cell_type": "markdown",
      "metadata": {
        "id": "3qf-6V_DIWvM"
      },
      "source": [
        ""
      ]
    }
  ]
}