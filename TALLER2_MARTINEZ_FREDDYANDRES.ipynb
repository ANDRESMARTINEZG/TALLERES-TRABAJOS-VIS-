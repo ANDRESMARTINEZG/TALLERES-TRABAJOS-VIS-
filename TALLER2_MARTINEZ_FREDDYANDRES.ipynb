{
  "nbformat": 4,
  "nbformat_minor": 0,
  "metadata": {
    "colab": {
      "name": "Untitled0.ipynb",
      "provenance": [],
      "authorship_tag": "ABX9TyORpSWzizILUXWTuNSubs4A",
      "include_colab_link": true
    },
    "kernelspec": {
      "name": "python3",
      "display_name": "Python 3"
    },
    "language_info": {
      "name": "python"
    }
  },
  "cells": [
    {
      "cell_type": "markdown",
      "metadata": {
        "id": "view-in-github",
        "colab_type": "text"
      },
      "source": [
        "<a href=\"https://colab.research.google.com/github/ANDRESMARTINEZG/TALLERES-TRABAJOS-VIS-/blob/main/TALLER2_MARTINEZ_FREDDYANDRES.ipynb\" target=\"_parent\"><img src=\"https://colab.research.google.com/assets/colab-badge.svg\" alt=\"Open In Colab\"/></a>"
      ]
    },
    {
      "cell_type": "code",
      "metadata": {
        "id": "6NFpUOqfWBsR"
      },
      "source": [
        ""
      ],
      "execution_count": null,
      "outputs": []
    },
    {
      "cell_type": "markdown",
      "metadata": {
        "id": "kgLlRVG0WCXf"
      },
      "source": [
        "# TALLER 2\n",
        "\n",
        "### FREDDY ANDRES MARTINEZ GALLO\n",
        "\n",
        "Visualización para ciencia de datos en Python\n",
        "\n",
        "Fuente : http://www-personal.umich.edu/~mejn/netdata/"
      ]
    },
    {
      "cell_type": "markdown",
      "metadata": {
        "id": "gPF8K-bVWg7X"
      },
      "source": [
        "***IMPORTAR LIBRERIAS***"
      ]
    },
    {
      "cell_type": "code",
      "metadata": {
        "id": "56QAu9nwYg-e"
      },
      "source": [
        "!pip install networkx\n",
        "!pip install pyvis\n",
        "!pip install plotly"
      ],
      "execution_count": null,
      "outputs": []
    },
    {
      "cell_type": "code",
      "metadata": {
        "id": "6ay9DZ7HYsgj"
      },
      "source": [
        "import pandas as pd\n",
        "import numpy as np\n",
        "import seaborn as sns\n",
        "import networkx as nx\n",
        "from pyvis.network import Network\n",
        "import matplotlib.pyplot as plt"
      ],
      "execution_count": null,
      "outputs": []
    },
    {
      "cell_type": "markdown",
      "metadata": {
        "id": "nkSqRY0AZJmd"
      },
      "source": [
        "### DESARROLLO DE LA VISUALIZACIÓN\n",
        "IMPORTACIÓN DE DATOS "
      ]
    },
    {
      "cell_type": "code",
      "metadata": {
        "id": "NLrUhzSvEU1K"
      },
      "source": [
        "url = 'https://raw.githubusercontent.com/ANDRESMARTINEZG/TALLERES-TRABAJOS-VIS-/main/celegansneural.gml'\n",
        "G = nx.read_gml(url)\n"
      ],
      "execution_count": null,
      "outputs": []
    },
    {
      "cell_type": "code",
      "metadata": {
        "id": "L3TWRclXRTZS"
      },
      "source": [
        "print(\"Número de nodos:\", g.number_of_nodes())\n",
        "print(\"Número de nodos:\", g.number_of_edges())"
      ],
      "execution_count": null,
      "outputs": []
    },
    {
      "cell_type": "markdown",
      "metadata": {
        "id": "uJ6h8ZAOZr0J"
      },
      "source": [
        "Número de nodos: 302\n",
        "\n",
        "Número de redes: 1215"
      ]
    },
    {
      "cell_type": "markdown",
      "metadata": {
        "id": "pwANG8u9XYnG"
      },
      "source": [
        "En esta parte podemos evidenciar la cantidad de nodos y redes que se tienen."
      ]
    },
    {
      "cell_type": "code",
      "metadata": {
        "id": "NiNX9dX4XfCC"
      },
      "source": [
        "plt.figure(figsize=(50,20))\n",
        "plt.subplot(1215)\n",
        "\n",
        "nx.draw(G,with_labels=True,\n",
        "        node_shape=\"D\", \n",
        "        font_weight='bold',\n",
        "       pos=nx.spring_layout(G,seed=19),\n",
        "       node_size=3950,\n",
        "       edge_cmap=plt.cm.magma)\n",
        "\n",
        "plt.show()"
      ],
      "execution_count": null,
      "outputs": []
    },
    {
      "cell_type": "markdown",
      "metadata": {
        "id": "4v2w7Xwn5LlS"
      },
      "source": [
        "## CONTEXTUALIZACION DE LA INFORMACIÓN \n",
        "\n",
        "### INFORMACIÓN A CERCA DE LOS DATOS\n",
        "\n"
      ]
    },
    {
      "cell_type": "markdown",
      "metadata": {
        "id": "PaTliSDe-qcB"
      },
      "source": [
        "**Red neuronal del nematodo C.Elegans**\n",
        "\n",
        "\n",
        "Estos datos describen una red dirigida y ponderada\n",
        "que representa la red neuronal de C. Elegans. La estructura y conectividad del sistema nervioso del nematodo Caenorhabditis elegans se ha deducido de reconstrucciones de micrografías electrónicas de secciones seriadas.\n",
        "\n",
        "A partir de los datos esta visualización representa un total de 302 nodos que hacen referencia al número de neuronas que tiene el sistema nervioso hermafrodita, estas neuronas son las que están dispuestas en una estructura esencialmente invariante, en cuanto a las redes son representadas por la frecuencia de cada una de las regiones a nivel neuronal, las neuronas con morfologías y conectividades similares se han agrupado en diferentes clases estas representan en numerosas sinapsis químicas,  uniones neuromusculares y uniones gap."
      ]
    },
    {
      "cell_type": "markdown",
      "metadata": {
        "id": "573yBOWgGJGv"
      },
      "source": [
        "# ¿Que?\n",
        "\n",
        "Esta visualización es percibida como una red que representa las neuronas que generalmente están altamente conectadas localmente que fueron representadas a partir de frecuencias, a nivel neurologico estas hacen conexiones sinápticas con muchos de sus vecinos las conexiones son realizadas por medio de sustancias quimicas que nos dice si son vecinas en el caso de que sean vecinas se tienen que tener grandes similitudes quimicas por eso se dice que son conexiones sinapticas, estas sustancias quimicas estan representadas a partir de la red donde se percive y se hace una union por este tipo de sustancia donde se llega a una cercania o conexion entre neuronas, por ejemplo a partir de la grafica podemos ver que la variable SABV es un par interneuronal con 4AVA, 4DA1,3VA1, 4SABD,2SABV lo que nos dice que son vecinas y representan una gran similitud a niveles quimicos."
      ]
    },
    {
      "cell_type": "markdown",
      "metadata": {
        "id": "e29d4-bWG6o5"
      },
      "source": [
        "# ¿Por que?\n",
        "\n",
        "Se penso en este tipo de diagrama de red por que es la mas optima para representar las 1215 relaciones quimicas que hay en las 302 neuronas esto con el fin de identificar las neuronas vecinas o mas cercanas. "
      ]
    },
    {
      "cell_type": "markdown",
      "metadata": {
        "id": "l9qwUwUsHCEG"
      },
      "source": [
        "# ¿Cómo?\n",
        "\n",
        "En este caso se elige tener una visualización estatica con el fin de representar enlaces a partir de cada uno de los nodos, el gran numero de frecuencias y nodos hace que esta sea adecuada por que en otro caso podria surgir en falencias de forma y manipulación."
      ]
    },
    {
      "cell_type": "markdown",
      "metadata": {
        "id": "jBjZ4zLwHMBi"
      },
      "source": [
        "# Marca\n",
        "\n",
        "Los enlaces son la marca implementada pues a partir de ellos podemos identificar que tan cercanas y asi se puedan identificar las conexiones psinapticas."
      ]
    },
    {
      "cell_type": "markdown",
      "metadata": {
        "id": "fDNdK6v0HUQ3"
      },
      "source": [
        "# Canal\n",
        "\n",
        "El canal que lleva esta visualización es un canal basico de conexión, ahí reciben su entrada sináptica en regiones definidas a lo largo de la superficie lo que hace no se opte por usar canales mas especificos."
      ]
    },
    {
      "cell_type": "markdown",
      "metadata": {
        "id": "-mjCzXWaHWRu"
      },
      "source": [
        "# Verificación de reglas\n",
        "\n",
        "hace uso especifico al 2D justificado lo que hace que sea mucho mas facil de leer he interpretar cada una de las conexiones "
      ]
    },
    {
      "cell_type": "markdown",
      "metadata": {
        "id": "mPUlBW9DUI7I"
      },
      "source": [
        "# RECOMENDACIONES \n",
        "\n",
        "Una de las recomendaciónes seria poder encontrar un metodo donde represente a partir de los colores los diferentes componentes quimicos y nos muestre a nivel neurologico a que parte del cerebro pertenece dicha sustancia quimica."
      ]
    }
  ]
}